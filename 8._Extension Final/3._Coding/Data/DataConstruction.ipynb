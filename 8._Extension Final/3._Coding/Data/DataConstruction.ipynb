{
 "cells": [
  {
   "cell_type": "code",
   "execution_count": 1,
   "metadata": {},
   "outputs": [
    {
     "name": "stderr",
     "output_type": "stream",
     "text": [
      "/Users/edmundoarias/anaconda3/lib/python3.11/site-packages/pandas/core/arrays/masked.py:60: UserWarning: Pandas requires version '1.3.6' or newer of 'bottleneck' (version '1.3.5' currently installed).\n",
      "  from pandas.core import (\n"
     ]
    }
   ],
   "source": [
    "import pandas as pd\n",
    "import numpy as np\n",
    "import matplotlib.pyplot as plt\n",
    "import seaborn as sns"
   ]
  },
  {
   "cell_type": "markdown",
   "metadata": {},
   "source": [
    "## Load Data: Chile"
   ]
  },
  {
   "cell_type": "code",
   "execution_count": 2,
   "metadata": {},
   "outputs": [],
   "source": [
    "chileFX = pd.read_excel('/Users/edmundoarias/Documents/Uniandes/2024-10/HE 2/FX-Intervention/8._Extension Final/2._ProcessedData/Chile/ChileFX.xlsx')\n",
    "chileTPM = pd.read_excel('/Users/edmundoarias/Documents/Uniandes/2024-10/HE 2/FX-Intervention/8._Extension Final/2._ProcessedData/Chile/ChileTPM.xlsx')\n",
    "chileBonds = pd.read_excel('/Users/edmundoarias/Documents/Uniandes/2024-10/HE 2/FX-Intervention/8._Extension Final/2._ProcessedData/Chile/ChileBonds.xlsx')\n",
    "chileSpread = pd.read_excel('/Users/edmundoarias/Documents/Uniandes/2024-10/HE 2/FX-Intervention/8._Extension Final/2._ProcessedData/Chile/ChileSpread.xlsx')"
   ]
  },
  {
   "cell_type": "code",
   "execution_count": 3,
   "metadata": {},
   "outputs": [],
   "source": [
    "# Merge these time series by 'fecha'\n",
    "chile = pd.merge(chileFX, chileTPM, on='fecha')"
   ]
  },
  {
   "cell_type": "code",
   "execution_count": 4,
   "metadata": {},
   "outputs": [
    {
     "name": "stderr",
     "output_type": "stream",
     "text": [
      "/var/folders/4q/634d8_qs2qdd58rzydjvszzm0000gn/T/ipykernel_72870/365221827.py:2: UserWarning: Parsing dates in %d/%m/%Y format when dayfirst=False (the default) was specified. Pass `dayfirst=True` or specify a format to silence this warning.\n",
      "  chileBonds['fecha'] = pd.to_datetime(chileBonds['fecha'])\n"
     ]
    }
   ],
   "source": [
    "chile['fecha'] = pd.to_datetime(chile['fecha'])\n",
    "chileBonds['fecha'] = pd.to_datetime(chileBonds['fecha'])\n",
    "chile = pd.merge(chile, chileBonds, on='fecha', how='left')"
   ]
  },
  {
   "cell_type": "code",
   "execution_count": 5,
   "metadata": {},
   "outputs": [],
   "source": [
    "# Merge the previous time series with the spread (spread has a monthly frequency while the other variables are daily, so make spread repeat its values every day and only change monthly)\n",
    "chileSpread['fecha'] = pd.to_datetime(chileSpread['fecha'])\n",
    "chileSpread = chileSpread.set_index('fecha').resample('D').ffill().reset_index()\n",
    "chile = pd.merge(chile, chileSpread, on='fecha', how='left')"
   ]
  },
  {
   "cell_type": "code",
   "execution_count": 6,
   "metadata": {},
   "outputs": [
    {
     "data": {
      "text/html": [
       "<div>\n",
       "<style scoped>\n",
       "    .dataframe tbody tr th:only-of-type {\n",
       "        vertical-align: middle;\n",
       "    }\n",
       "\n",
       "    .dataframe tbody tr th {\n",
       "        vertical-align: top;\n",
       "    }\n",
       "\n",
       "    .dataframe thead th {\n",
       "        text-align: right;\n",
       "    }\n",
       "</style>\n",
       "<table border=\"1\" class=\"dataframe\">\n",
       "  <thead>\n",
       "    <tr style=\"text-align: right;\">\n",
       "      <th></th>\n",
       "      <th>fecha</th>\n",
       "      <th>FX</th>\n",
       "      <th>TPM</th>\n",
       "      <th>Bonds</th>\n",
       "      <th>Spread</th>\n",
       "      <th>ctr_name</th>\n",
       "    </tr>\n",
       "  </thead>\n",
       "  <tbody>\n",
       "    <tr>\n",
       "      <th>0</th>\n",
       "      <td>2010-01-04</td>\n",
       "      <td>507.10</td>\n",
       "      <td>0.50</td>\n",
       "      <td>NaN</td>\n",
       "      <td>108.0</td>\n",
       "      <td>Chile</td>\n",
       "    </tr>\n",
       "    <tr>\n",
       "      <th>1</th>\n",
       "      <td>2010-01-05</td>\n",
       "      <td>505.70</td>\n",
       "      <td>0.50</td>\n",
       "      <td>NaN</td>\n",
       "      <td>108.0</td>\n",
       "      <td>Chile</td>\n",
       "    </tr>\n",
       "    <tr>\n",
       "      <th>2</th>\n",
       "      <td>2010-01-06</td>\n",
       "      <td>504.22</td>\n",
       "      <td>0.50</td>\n",
       "      <td>NaN</td>\n",
       "      <td>108.0</td>\n",
       "      <td>Chile</td>\n",
       "    </tr>\n",
       "    <tr>\n",
       "      <th>3</th>\n",
       "      <td>2010-01-07</td>\n",
       "      <td>497.93</td>\n",
       "      <td>0.50</td>\n",
       "      <td>NaN</td>\n",
       "      <td>108.0</td>\n",
       "      <td>Chile</td>\n",
       "    </tr>\n",
       "    <tr>\n",
       "      <th>4</th>\n",
       "      <td>2010-01-08</td>\n",
       "      <td>494.54</td>\n",
       "      <td>0.50</td>\n",
       "      <td>NaN</td>\n",
       "      <td>108.0</td>\n",
       "      <td>Chile</td>\n",
       "    </tr>\n",
       "    <tr>\n",
       "      <th>...</th>\n",
       "      <td>...</td>\n",
       "      <td>...</td>\n",
       "      <td>...</td>\n",
       "      <td>...</td>\n",
       "      <td>...</td>\n",
       "      <td>...</td>\n",
       "    </tr>\n",
       "    <tr>\n",
       "      <th>3616</th>\n",
       "      <td>2019-12-26</td>\n",
       "      <td>751.04</td>\n",
       "      <td>1.75</td>\n",
       "      <td>2.46</td>\n",
       "      <td>NaN</td>\n",
       "      <td>Chile</td>\n",
       "    </tr>\n",
       "    <tr>\n",
       "      <th>3617</th>\n",
       "      <td>2019-12-27</td>\n",
       "      <td>746.66</td>\n",
       "      <td>1.75</td>\n",
       "      <td>2.40</td>\n",
       "      <td>NaN</td>\n",
       "      <td>Chile</td>\n",
       "    </tr>\n",
       "    <tr>\n",
       "      <th>3618</th>\n",
       "      <td>2019-12-28</td>\n",
       "      <td>NaN</td>\n",
       "      <td>NaN</td>\n",
       "      <td>NaN</td>\n",
       "      <td>NaN</td>\n",
       "      <td>Chile</td>\n",
       "    </tr>\n",
       "    <tr>\n",
       "      <th>3619</th>\n",
       "      <td>2019-12-29</td>\n",
       "      <td>NaN</td>\n",
       "      <td>NaN</td>\n",
       "      <td>NaN</td>\n",
       "      <td>NaN</td>\n",
       "      <td>Chile</td>\n",
       "    </tr>\n",
       "    <tr>\n",
       "      <th>3620</th>\n",
       "      <td>2019-12-30</td>\n",
       "      <td>744.62</td>\n",
       "      <td>1.75</td>\n",
       "      <td>2.38</td>\n",
       "      <td>NaN</td>\n",
       "      <td>Chile</td>\n",
       "    </tr>\n",
       "  </tbody>\n",
       "</table>\n",
       "<p>3621 rows × 6 columns</p>\n",
       "</div>"
      ],
      "text/plain": [
       "          fecha      FX   TPM  Bonds  Spread ctr_name\n",
       "0    2010-01-04  507.10  0.50    NaN   108.0    Chile\n",
       "1    2010-01-05  505.70  0.50    NaN   108.0    Chile\n",
       "2    2010-01-06  504.22  0.50    NaN   108.0    Chile\n",
       "3    2010-01-07  497.93  0.50    NaN   108.0    Chile\n",
       "4    2010-01-08  494.54  0.50    NaN   108.0    Chile\n",
       "...         ...     ...   ...    ...     ...      ...\n",
       "3616 2019-12-26  751.04  1.75   2.46     NaN    Chile\n",
       "3617 2019-12-27  746.66  1.75   2.40     NaN    Chile\n",
       "3618 2019-12-28     NaN   NaN    NaN     NaN    Chile\n",
       "3619 2019-12-29     NaN   NaN    NaN     NaN    Chile\n",
       "3620 2019-12-30  744.62  1.75   2.38     NaN    Chile\n",
       "\n",
       "[3621 rows x 6 columns]"
      ]
     },
     "execution_count": 6,
     "metadata": {},
     "output_type": "execute_result"
    }
   ],
   "source": [
    "# Clean: rename columns\n",
    "chile.columns = ['fecha', 'FX', 'TPM', 'Bonds', 'Spread']\n",
    "\n",
    "# Create a new column called \"ctr_name\" with the name of the country: Chile\n",
    "chile['ctr_name'] = 'Chile'\n",
    "chile"
   ]
  },
  {
   "cell_type": "markdown",
   "metadata": {},
   "source": [
    "### Merge w/ country codes"
   ]
  },
  {
   "cell_type": "code",
   "execution_count": 7,
   "metadata": {},
   "outputs": [],
   "source": [
    "id = pd.read_excel('/Users/edmundoarias/Documents/Uniandes/2024-10/HE 2/FX-Intervention/8._Extension Final/2._ProcessedData/ctr_id.xlsx')"
   ]
  },
  {
   "cell_type": "code",
   "execution_count": 8,
   "metadata": {},
   "outputs": [],
   "source": [
    "# Merge ctr_id with the 'chile' dataframe\n",
    "chile = pd.merge(chile, id, on='ctr_name')"
   ]
  },
  {
   "cell_type": "markdown",
   "metadata": {},
   "source": [
    "## Load Data: Norway"
   ]
  },
  {
   "cell_type": "code",
   "execution_count": 9,
   "metadata": {},
   "outputs": [],
   "source": [
    "norwayFX = pd.read_excel('/Users/edmundoarias/Documents/Uniandes/2024-10/HE 2/FX-Intervention/8._Extension Final/2._ProcessedData/Norway/NorwayFX.xlsx')\n",
    "norwayBonds = pd.read_excel('/Users/edmundoarias/Documents/Uniandes/2024-10/HE 2/FX-Intervention/8._Extension Final/2._ProcessedData/Norway/NorwayBonds.xlsx')\n",
    "norwayTPM = pd.read_excel('/Users/edmundoarias/Documents/Uniandes/2024-10/HE 2/FX-Intervention/8._Extension Final/2._ProcessedData/Norway/NorwayTPM.xlsx')"
   ]
  },
  {
   "cell_type": "code",
   "execution_count": 10,
   "metadata": {},
   "outputs": [],
   "source": [
    "# Merge bonds & FX\n",
    "norwayFX['fecha'] = pd.to_datetime(norwayFX['fecha'])\n",
    "norwayBonds['fecha'] = pd.to_datetime(norwayBonds['fecha'])\n",
    "norway = pd.merge(norwayFX, norwayBonds, on='fecha', how='left')\n"
   ]
  },
  {
   "cell_type": "code",
   "execution_count": 11,
   "metadata": {},
   "outputs": [],
   "source": [
    "# Merge TPM\n",
    "norwayTPM['fecha'] = pd.to_datetime(norwayTPM['fecha'])\n",
    "norway = pd.merge(norway, norwayTPM, on='fecha', how='left')"
   ]
  },
  {
   "cell_type": "code",
   "execution_count": 12,
   "metadata": {},
   "outputs": [
    {
     "data": {
      "text/html": [
       "<div>\n",
       "<style scoped>\n",
       "    .dataframe tbody tr th:only-of-type {\n",
       "        vertical-align: middle;\n",
       "    }\n",
       "\n",
       "    .dataframe tbody tr th {\n",
       "        vertical-align: top;\n",
       "    }\n",
       "\n",
       "    .dataframe thead th {\n",
       "        text-align: right;\n",
       "    }\n",
       "</style>\n",
       "<table border=\"1\" class=\"dataframe\">\n",
       "  <thead>\n",
       "    <tr style=\"text-align: right;\">\n",
       "      <th></th>\n",
       "      <th>fecha</th>\n",
       "      <th>FX</th>\n",
       "      <th>Bonds</th>\n",
       "      <th>TPM</th>\n",
       "      <th>ctr_name</th>\n",
       "    </tr>\n",
       "  </thead>\n",
       "  <tbody>\n",
       "    <tr>\n",
       "      <th>0</th>\n",
       "      <td>2010-01-04</td>\n",
       "      <td>5.7190</td>\n",
       "      <td>4.180</td>\n",
       "      <td>1.75</td>\n",
       "      <td>Norway</td>\n",
       "    </tr>\n",
       "    <tr>\n",
       "      <th>1</th>\n",
       "      <td>2010-01-05</td>\n",
       "      <td>5.6862</td>\n",
       "      <td>4.160</td>\n",
       "      <td>1.75</td>\n",
       "      <td>Norway</td>\n",
       "    </tr>\n",
       "    <tr>\n",
       "      <th>2</th>\n",
       "      <td>2010-01-06</td>\n",
       "      <td>5.7059</td>\n",
       "      <td>4.137</td>\n",
       "      <td>1.75</td>\n",
       "      <td>Norway</td>\n",
       "    </tr>\n",
       "    <tr>\n",
       "      <th>3</th>\n",
       "      <td>2010-01-07</td>\n",
       "      <td>5.7313</td>\n",
       "      <td>4.128</td>\n",
       "      <td>1.75</td>\n",
       "      <td>Norway</td>\n",
       "    </tr>\n",
       "    <tr>\n",
       "      <th>4</th>\n",
       "      <td>2010-01-08</td>\n",
       "      <td>5.7237</td>\n",
       "      <td>4.089</td>\n",
       "      <td>1.75</td>\n",
       "      <td>Norway</td>\n",
       "    </tr>\n",
       "    <tr>\n",
       "      <th>...</th>\n",
       "      <td>...</td>\n",
       "      <td>...</td>\n",
       "      <td>...</td>\n",
       "      <td>...</td>\n",
       "      <td>...</td>\n",
       "    </tr>\n",
       "    <tr>\n",
       "      <th>2510</th>\n",
       "      <td>2019-12-20</td>\n",
       "      <td>8.9631</td>\n",
       "      <td>1.525</td>\n",
       "      <td>1.50</td>\n",
       "      <td>Norway</td>\n",
       "    </tr>\n",
       "    <tr>\n",
       "      <th>2511</th>\n",
       "      <td>2019-12-23</td>\n",
       "      <td>8.9508</td>\n",
       "      <td>1.509</td>\n",
       "      <td>1.50</td>\n",
       "      <td>Norway</td>\n",
       "    </tr>\n",
       "    <tr>\n",
       "      <th>2512</th>\n",
       "      <td>2019-12-27</td>\n",
       "      <td>8.8387</td>\n",
       "      <td>1.528</td>\n",
       "      <td>1.50</td>\n",
       "      <td>Norway</td>\n",
       "    </tr>\n",
       "    <tr>\n",
       "      <th>2513</th>\n",
       "      <td>2019-12-30</td>\n",
       "      <td>8.7997</td>\n",
       "      <td>1.576</td>\n",
       "      <td>1.50</td>\n",
       "      <td>Norway</td>\n",
       "    </tr>\n",
       "    <tr>\n",
       "      <th>2514</th>\n",
       "      <td>2019-12-31</td>\n",
       "      <td>8.7803</td>\n",
       "      <td>NaN</td>\n",
       "      <td>1.50</td>\n",
       "      <td>Norway</td>\n",
       "    </tr>\n",
       "  </tbody>\n",
       "</table>\n",
       "<p>2515 rows × 5 columns</p>\n",
       "</div>"
      ],
      "text/plain": [
       "          fecha      FX  Bonds   TPM ctr_name\n",
       "0    2010-01-04  5.7190  4.180  1.75   Norway\n",
       "1    2010-01-05  5.6862  4.160  1.75   Norway\n",
       "2    2010-01-06  5.7059  4.137  1.75   Norway\n",
       "3    2010-01-07  5.7313  4.128  1.75   Norway\n",
       "4    2010-01-08  5.7237  4.089  1.75   Norway\n",
       "...         ...     ...    ...   ...      ...\n",
       "2510 2019-12-20  8.9631  1.525  1.50   Norway\n",
       "2511 2019-12-23  8.9508  1.509  1.50   Norway\n",
       "2512 2019-12-27  8.8387  1.528  1.50   Norway\n",
       "2513 2019-12-30  8.7997  1.576  1.50   Norway\n",
       "2514 2019-12-31  8.7803    NaN  1.50   Norway\n",
       "\n",
       "[2515 rows x 5 columns]"
      ]
     },
     "execution_count": 12,
     "metadata": {},
     "output_type": "execute_result"
    }
   ],
   "source": [
    "# Clean: rename columns\n",
    "norway.columns = ['fecha', 'FX', 'Bonds', 'TPM']\n",
    "\n",
    "# Create a new column called \"ctr_name\" with the name of the country: Norway\n",
    "norway['ctr_name'] = 'Norway'\n",
    "norway"
   ]
  },
  {
   "cell_type": "code",
   "execution_count": 13,
   "metadata": {},
   "outputs": [],
   "source": [
    "# Merge ctr_id with the 'norway' dataframe\n",
    "norway = pd.merge(norway, id, on='ctr_name')"
   ]
  },
  {
   "cell_type": "code",
   "execution_count": 14,
   "metadata": {},
   "outputs": [],
   "source": [
    "# Merge Chile and Norway based on the 'fecha' column\n",
    "df = pd.concat([chile, norway])"
   ]
  },
  {
   "cell_type": "markdown",
   "metadata": {},
   "source": [
    "## Load Data: Canada"
   ]
  },
  {
   "cell_type": "code",
   "execution_count": 15,
   "metadata": {},
   "outputs": [],
   "source": [
    "canadaFX = pd.read_excel('/Users/edmundoarias/Documents/Uniandes/2024-10/HE 2/FX-Intervention/8._Extension Final/2._ProcessedData/Canada/CanadaFX.xlsx')\n",
    "canadaCDS = pd.read_excel('/Users/edmundoarias/Documents/Uniandes/2024-10/HE 2/FX-Intervention/8._Extension Final/2._ProcessedData/Canada/CanadaCDS.xlsx')\n",
    "canadaTPM = pd.read_excel('/Users/edmundoarias/Documents/Uniandes/2024-10/HE 2/FX-Intervention/8._Extension Final/2._ProcessedData/Canada/CanadaTPM.xlsx')"
   ]
  },
  {
   "cell_type": "code",
   "execution_count": 16,
   "metadata": {},
   "outputs": [],
   "source": [
    "# Merge bonds & FX\n",
    "canadaFX['fecha'] = pd.to_datetime(canadaFX['fecha'])\n",
    "canadaCDS['fecha'] = pd.to_datetime(canadaCDS['fecha'])\n",
    "canada = pd.merge(canadaFX, canadaCDS, on='fecha', how='left')"
   ]
  },
  {
   "cell_type": "code",
   "execution_count": 17,
   "metadata": {},
   "outputs": [],
   "source": [
    "# Merge TPM\n",
    "canadaTPM['fecha'] = pd.to_datetime(canadaTPM['fecha'])\n",
    "canada = pd.merge(canada, canadaTPM, on='fecha', how='left')"
   ]
  },
  {
   "cell_type": "code",
   "execution_count": 18,
   "metadata": {},
   "outputs": [
    {
     "data": {
      "text/html": [
       "<div>\n",
       "<style scoped>\n",
       "    .dataframe tbody tr th:only-of-type {\n",
       "        vertical-align: middle;\n",
       "    }\n",
       "\n",
       "    .dataframe tbody tr th {\n",
       "        vertical-align: top;\n",
       "    }\n",
       "\n",
       "    .dataframe thead th {\n",
       "        text-align: right;\n",
       "    }\n",
       "</style>\n",
       "<table border=\"1\" class=\"dataframe\">\n",
       "  <thead>\n",
       "    <tr style=\"text-align: right;\">\n",
       "      <th></th>\n",
       "      <th>fecha</th>\n",
       "      <th>FX</th>\n",
       "      <th>Bonds</th>\n",
       "      <th>TPM</th>\n",
       "      <th>ctr_name</th>\n",
       "    </tr>\n",
       "  </thead>\n",
       "  <tbody>\n",
       "    <tr>\n",
       "      <th>0</th>\n",
       "      <td>2010-01-04</td>\n",
       "      <td>1.0414</td>\n",
       "      <td>NaN</td>\n",
       "      <td>NaN</td>\n",
       "      <td>Canada</td>\n",
       "    </tr>\n",
       "    <tr>\n",
       "      <th>1</th>\n",
       "      <td>2010-01-05</td>\n",
       "      <td>1.0390</td>\n",
       "      <td>NaN</td>\n",
       "      <td>NaN</td>\n",
       "      <td>Canada</td>\n",
       "    </tr>\n",
       "    <tr>\n",
       "      <th>2</th>\n",
       "      <td>2010-01-06</td>\n",
       "      <td>1.0325</td>\n",
       "      <td>NaN</td>\n",
       "      <td>NaN</td>\n",
       "      <td>Canada</td>\n",
       "    </tr>\n",
       "    <tr>\n",
       "      <th>3</th>\n",
       "      <td>2010-01-07</td>\n",
       "      <td>1.0350</td>\n",
       "      <td>NaN</td>\n",
       "      <td>NaN</td>\n",
       "      <td>Canada</td>\n",
       "    </tr>\n",
       "    <tr>\n",
       "      <th>4</th>\n",
       "      <td>2010-01-08</td>\n",
       "      <td>1.0309</td>\n",
       "      <td>NaN</td>\n",
       "      <td>NaN</td>\n",
       "      <td>Canada</td>\n",
       "    </tr>\n",
       "    <tr>\n",
       "      <th>...</th>\n",
       "      <td>...</td>\n",
       "      <td>...</td>\n",
       "      <td>...</td>\n",
       "      <td>...</td>\n",
       "      <td>...</td>\n",
       "    </tr>\n",
       "    <tr>\n",
       "      <th>2329</th>\n",
       "      <td>2019-12-23</td>\n",
       "      <td>1.3160</td>\n",
       "      <td>NaN</td>\n",
       "      <td>1.75</td>\n",
       "      <td>Canada</td>\n",
       "    </tr>\n",
       "    <tr>\n",
       "      <th>2330</th>\n",
       "      <td>2019-12-24</td>\n",
       "      <td>1.3157</td>\n",
       "      <td>NaN</td>\n",
       "      <td>1.75</td>\n",
       "      <td>Canada</td>\n",
       "    </tr>\n",
       "    <tr>\n",
       "      <th>2331</th>\n",
       "      <td>2019-12-27</td>\n",
       "      <td>1.3078</td>\n",
       "      <td>NaN</td>\n",
       "      <td>1.75</td>\n",
       "      <td>Canada</td>\n",
       "    </tr>\n",
       "    <tr>\n",
       "      <th>2332</th>\n",
       "      <td>2019-12-30</td>\n",
       "      <td>1.3059</td>\n",
       "      <td>NaN</td>\n",
       "      <td>1.75</td>\n",
       "      <td>Canada</td>\n",
       "    </tr>\n",
       "    <tr>\n",
       "      <th>2333</th>\n",
       "      <td>2019-12-31</td>\n",
       "      <td>1.2988</td>\n",
       "      <td>NaN</td>\n",
       "      <td>1.75</td>\n",
       "      <td>Canada</td>\n",
       "    </tr>\n",
       "  </tbody>\n",
       "</table>\n",
       "<p>2334 rows × 5 columns</p>\n",
       "</div>"
      ],
      "text/plain": [
       "          fecha      FX  Bonds   TPM ctr_name\n",
       "0    2010-01-04  1.0414    NaN   NaN   Canada\n",
       "1    2010-01-05  1.0390    NaN   NaN   Canada\n",
       "2    2010-01-06  1.0325    NaN   NaN   Canada\n",
       "3    2010-01-07  1.0350    NaN   NaN   Canada\n",
       "4    2010-01-08  1.0309    NaN   NaN   Canada\n",
       "...         ...     ...    ...   ...      ...\n",
       "2329 2019-12-23  1.3160    NaN  1.75   Canada\n",
       "2330 2019-12-24  1.3157    NaN  1.75   Canada\n",
       "2331 2019-12-27  1.3078    NaN  1.75   Canada\n",
       "2332 2019-12-30  1.3059    NaN  1.75   Canada\n",
       "2333 2019-12-31  1.2988    NaN  1.75   Canada\n",
       "\n",
       "[2334 rows x 5 columns]"
      ]
     },
     "execution_count": 18,
     "metadata": {},
     "output_type": "execute_result"
    }
   ],
   "source": [
    "# Clean: rename columns\n",
    "canada.columns = ['fecha', 'FX', 'Bonds', 'TPM']\n",
    "\n",
    "# Create a new column called \"ctr_name\" with the name of the country: Canada\n",
    "canada['ctr_name'] = 'Canada'\n",
    "canada"
   ]
  },
  {
   "cell_type": "code",
   "execution_count": 19,
   "metadata": {},
   "outputs": [],
   "source": [
    "# Merge ctr_id with the 'norway' dataframe\n",
    "canada = pd.merge(canada, id, on='ctr_name')"
   ]
  },
  {
   "cell_type": "code",
   "execution_count": 20,
   "metadata": {},
   "outputs": [],
   "source": [
    "# Merge canada with the df dataframe\n",
    "df = pd.concat([df, canada])"
   ]
  },
  {
   "cell_type": "markdown",
   "metadata": {},
   "source": [
    "# Load Data: Uruguay"
   ]
  },
  {
   "cell_type": "code",
   "execution_count": 21,
   "metadata": {},
   "outputs": [],
   "source": [
    "uruguayFX = pd.read_excel('/Users/edmundoarias/Documents/Uniandes/2024-10/HE 2/FX-Intervention/8._Extension Final/2._ProcessedData/Uruguay/UruguayFX.xlsx')\n",
    "uruguayTPM = pd.read_excel('/Users/edmundoarias/Documents/Uniandes/2024-10/HE 2/FX-Intervention/8._Extension Final/2._ProcessedData/Uruguay/UruguayTPM.xlsx')"
   ]
  },
  {
   "cell_type": "code",
   "execution_count": 22,
   "metadata": {},
   "outputs": [],
   "source": [
    "# Merge bonds & FX\n",
    "uruguayFX['fecha'] = pd.to_datetime(uruguayFX['fecha'], format='%d.%m.%Y')\n",
    "uruguayTPM['fecha'] = pd.to_datetime(uruguayTPM['fecha'])\n",
    "uruguay = pd.merge(uruguayFX, uruguayTPM, on='fecha', how='left')"
   ]
  },
  {
   "cell_type": "code",
   "execution_count": 23,
   "metadata": {},
   "outputs": [
    {
     "data": {
      "text/html": [
       "<div>\n",
       "<style scoped>\n",
       "    .dataframe tbody tr th:only-of-type {\n",
       "        vertical-align: middle;\n",
       "    }\n",
       "\n",
       "    .dataframe tbody tr th {\n",
       "        vertical-align: top;\n",
       "    }\n",
       "\n",
       "    .dataframe thead th {\n",
       "        text-align: right;\n",
       "    }\n",
       "</style>\n",
       "<table border=\"1\" class=\"dataframe\">\n",
       "  <thead>\n",
       "    <tr style=\"text-align: right;\">\n",
       "      <th></th>\n",
       "      <th>fecha</th>\n",
       "      <th>FX</th>\n",
       "      <th>TPM</th>\n",
       "      <th>ctr_name</th>\n",
       "    </tr>\n",
       "  </thead>\n",
       "  <tbody>\n",
       "    <tr>\n",
       "      <th>0</th>\n",
       "      <td>2020-01-01</td>\n",
       "      <td>373100</td>\n",
       "      <td>NaN</td>\n",
       "      <td>Uruguay</td>\n",
       "    </tr>\n",
       "    <tr>\n",
       "      <th>1</th>\n",
       "      <td>2019-12-31</td>\n",
       "      <td>373100</td>\n",
       "      <td>NaN</td>\n",
       "      <td>Uruguay</td>\n",
       "    </tr>\n",
       "    <tr>\n",
       "      <th>2</th>\n",
       "      <td>2019-12-30</td>\n",
       "      <td>371300</td>\n",
       "      <td>NaN</td>\n",
       "      <td>Uruguay</td>\n",
       "    </tr>\n",
       "    <tr>\n",
       "      <th>3</th>\n",
       "      <td>2019-12-27</td>\n",
       "      <td>369900</td>\n",
       "      <td>NaN</td>\n",
       "      <td>Uruguay</td>\n",
       "    </tr>\n",
       "    <tr>\n",
       "      <th>4</th>\n",
       "      <td>2019-12-26</td>\n",
       "      <td>369600</td>\n",
       "      <td>NaN</td>\n",
       "      <td>Uruguay</td>\n",
       "    </tr>\n",
       "    <tr>\n",
       "      <th>...</th>\n",
       "      <td>...</td>\n",
       "      <td>...</td>\n",
       "      <td>...</td>\n",
       "      <td>...</td>\n",
       "    </tr>\n",
       "    <tr>\n",
       "      <th>2604</th>\n",
       "      <td>2010-01-07</td>\n",
       "      <td>195500</td>\n",
       "      <td>6.25</td>\n",
       "      <td>Uruguay</td>\n",
       "    </tr>\n",
       "    <tr>\n",
       "      <th>2605</th>\n",
       "      <td>2010-01-06</td>\n",
       "      <td>195500</td>\n",
       "      <td>NaN</td>\n",
       "      <td>Uruguay</td>\n",
       "    </tr>\n",
       "    <tr>\n",
       "      <th>2606</th>\n",
       "      <td>2010-01-05</td>\n",
       "      <td>195500</td>\n",
       "      <td>6.25</td>\n",
       "      <td>Uruguay</td>\n",
       "    </tr>\n",
       "    <tr>\n",
       "      <th>2607</th>\n",
       "      <td>2010-01-04</td>\n",
       "      <td>195500</td>\n",
       "      <td>6.25</td>\n",
       "      <td>Uruguay</td>\n",
       "    </tr>\n",
       "    <tr>\n",
       "      <th>2608</th>\n",
       "      <td>2010-01-01</td>\n",
       "      <td>195500</td>\n",
       "      <td>NaN</td>\n",
       "      <td>Uruguay</td>\n",
       "    </tr>\n",
       "  </tbody>\n",
       "</table>\n",
       "<p>2609 rows × 4 columns</p>\n",
       "</div>"
      ],
      "text/plain": [
       "          fecha      FX   TPM ctr_name\n",
       "0    2020-01-01  373100   NaN  Uruguay\n",
       "1    2019-12-31  373100   NaN  Uruguay\n",
       "2    2019-12-30  371300   NaN  Uruguay\n",
       "3    2019-12-27  369900   NaN  Uruguay\n",
       "4    2019-12-26  369600   NaN  Uruguay\n",
       "...         ...     ...   ...      ...\n",
       "2604 2010-01-07  195500  6.25  Uruguay\n",
       "2605 2010-01-06  195500   NaN  Uruguay\n",
       "2606 2010-01-05  195500  6.25  Uruguay\n",
       "2607 2010-01-04  195500  6.25  Uruguay\n",
       "2608 2010-01-01  195500   NaN  Uruguay\n",
       "\n",
       "[2609 rows x 4 columns]"
      ]
     },
     "execution_count": 23,
     "metadata": {},
     "output_type": "execute_result"
    }
   ],
   "source": [
    "# Clean: rename columns\n",
    "uruguay.columns = ['fecha', 'FX', 'TPM']\n",
    "\n",
    "# Create a new column called \"ctr_name\" with the name of the country: Canada\n",
    "uruguay['ctr_name'] = 'Uruguay'\n",
    "uruguay"
   ]
  },
  {
   "cell_type": "code",
   "execution_count": 24,
   "metadata": {},
   "outputs": [],
   "source": [
    "# Merge ctr_id with the 'norway' dataframe\n",
    "uruguay = pd.merge(uruguay, id, on='ctr_name')"
   ]
  },
  {
   "cell_type": "code",
   "execution_count": 25,
   "metadata": {},
   "outputs": [],
   "source": [
    "# Merge canada with the df dataframe\n",
    "df = pd.concat([df, uruguay])"
   ]
  },
  {
   "cell_type": "markdown",
   "metadata": {},
   "source": [
    "## Import other variables: VIX & FED Rate"
   ]
  },
  {
   "cell_type": "code",
   "execution_count": 26,
   "metadata": {},
   "outputs": [],
   "source": [
    "vix = pd.read_excel('/Users/edmundoarias/Documents/Uniandes/2024-10/HE 2/FX-Intervention/8._Extension Final/2._ProcessedData/vix.xlsx')\n",
    "fed = pd.read_excel('/Users/edmundoarias/Documents/Uniandes/2024-10/HE 2/FX-Intervention/8._Extension Final/2._ProcessedData/FedRate.xlsx')"
   ]
  },
  {
   "cell_type": "code",
   "execution_count": 27,
   "metadata": {},
   "outputs": [],
   "source": [
    "# Convert fecha into time format \n",
    "vix['fecha'] = pd.to_datetime(vix['fecha'])\n",
    "fed['fecha'] = pd.to_datetime(fed['fecha'])"
   ]
  },
  {
   "cell_type": "code",
   "execution_count": 28,
   "metadata": {},
   "outputs": [],
   "source": [
    "# merge onto df\n",
    "df = pd.merge(df, vix, on='fecha', how='left')\n",
    "df = pd.merge(df, fed, on='fecha', how='left')"
   ]
  },
  {
   "cell_type": "code",
   "execution_count": 29,
   "metadata": {},
   "outputs": [],
   "source": [
    "# Export to excel\n",
    "df.to_excel('/Users/edmundoarias/Documents/Uniandes/2024-10/HE 2/FX-Intervention/8._Extension Final/2._ProcessedData/Panel_v1.xlsx', index=False)"
   ]
  }
 ],
 "metadata": {
  "kernelspec": {
   "display_name": "base",
   "language": "python",
   "name": "python3"
  },
  "language_info": {
   "codemirror_mode": {
    "name": "ipython",
    "version": 3
   },
   "file_extension": ".py",
   "mimetype": "text/x-python",
   "name": "python",
   "nbconvert_exporter": "python",
   "pygments_lexer": "ipython3",
   "version": "3.11.5"
  }
 },
 "nbformat": 4,
 "nbformat_minor": 2
}
