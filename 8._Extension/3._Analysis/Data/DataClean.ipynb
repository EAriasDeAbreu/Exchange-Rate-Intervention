{
 "cells": [
  {
   "cell_type": "code",
   "execution_count": 1,
   "metadata": {},
   "outputs": [
    {
     "name": "stderr",
     "output_type": "stream",
     "text": [
      "/Users/edmundoarias/anaconda3/lib/python3.11/site-packages/pandas/core/arrays/masked.py:60: UserWarning: Pandas requires version '1.3.6' or newer of 'bottleneck' (version '1.3.5' currently installed).\n",
      "  from pandas.core import (\n"
     ]
    }
   ],
   "source": [
    "import pandas as pd\n",
    "import numpy as np"
   ]
  },
  {
   "cell_type": "markdown",
   "metadata": {},
   "source": [
    "## IMF FXI Data"
   ]
  },
  {
   "cell_type": "code",
   "execution_count": 2,
   "metadata": {},
   "outputs": [],
   "source": [
    "# Load data\n",
    "fxi = pd.read_stata('/Users/edmundoarias/Documents/Uniandes/2024-10/HE 2/FX-Intervention/8._Extension/1._RawData/FXI Country Data – IMF/ACMS_monthly.dta')\n",
    "\n",
    "# IMF Country Codes\n",
    "codes = pd.read_excel('/Users/edmundoarias/Documents/Uniandes/2024-10/HE 2/FX-Intervention/8._Extension/1._RawData/ImfCodes.xlsx')\n",
    "codes = codes.dropna()"
   ]
  },
  {
   "cell_type": "code",
   "execution_count": 3,
   "metadata": {},
   "outputs": [],
   "source": [
    "# Keep IMF countries with data\n",
    "fxi['country'] = fxi['country'].replace('', pd.NA).str.strip()\n",
    "\n",
    "# Remove rows where the 'country' column is NaN\n",
    "fxi = fxi.dropna(subset=['country'])"
   ]
  },
  {
   "cell_type": "code",
   "execution_count": 4,
   "metadata": {},
   "outputs": [],
   "source": [
    "# Rename columns\n",
    "fxi.rename(columns={'Year': 'year', \n",
    "                       'Month': 'month'}, inplace=True)"
   ]
  },
  {
   "cell_type": "markdown",
   "metadata": {},
   "source": [
    "## OECD Exchange Rate Data"
   ]
  },
  {
   "cell_type": "code",
   "execution_count": 5,
   "metadata": {},
   "outputs": [],
   "source": [
    "exrate = pd.read_csv('/Users/edmundoarias/Documents/Uniandes/2024-10/HE 2/FX-Intervention/8._Extension/1._RawData/FX Country Data – OECD/FX Data.csv')"
   ]
  },
  {
   "cell_type": "code",
   "execution_count": 6,
   "metadata": {},
   "outputs": [],
   "source": [
    "# Keep relevant columns\n",
    "keep = ['Reference area', 'REF_AREA', 'TIME_PERIOD', 'OBS_VALUE']\n",
    "exrate = exrate[keep]"
   ]
  },
  {
   "cell_type": "code",
   "execution_count": 7,
   "metadata": {},
   "outputs": [],
   "source": [
    "# Rename columns\n",
    "exrate.rename(columns={'Reference area': 'ctr', \n",
    "                       'REF_AREA': 'ctr_id', \n",
    "                       'TIME_PERIOD': 'period',\n",
    "                       'OBS_VALUE': 'ctr_nomxr'}, inplace=True)\n"
   ]
  },
  {
   "cell_type": "code",
   "execution_count": 8,
   "metadata": {},
   "outputs": [],
   "source": [
    "# Split period column\n",
    "exrate[['year', 'month']] = exrate['period'].str.split('-', expand=True)\n",
    "\n",
    "# Generate a unique identifier for each country-period combination\n",
    "exrate['unique_id'] = exrate['ctr_id'] + '_' + exrate['period']"
   ]
  },
  {
   "cell_type": "markdown",
   "metadata": {},
   "source": [
    "### Merge IFSCODE"
   ]
  },
  {
   "cell_type": "code",
   "execution_count": 9,
   "metadata": {},
   "outputs": [],
   "source": [
    "# Merge IFSCODE\n",
    "exrate = pd.merge(codes, exrate, left_on='ISO', right_on='ctr_id', how='left')\n",
    "\n",
    "# Drop columns 'B' and 'D'\n",
    "exrate = exrate.drop(['ctr', 'ctr_id'], axis=1)"
   ]
  },
  {
   "cell_type": "markdown",
   "metadata": {},
   "source": [
    "## Immediate Interest Rate / InterBank Rate – OECD"
   ]
  },
  {
   "cell_type": "code",
   "execution_count": 10,
   "metadata": {},
   "outputs": [],
   "source": [
    "# Load data\n",
    "iir = pd.read_csv('/Users/edmundoarias/Documents/Uniandes/2024-10/HE 2/FX-Intervention/8._Extension/1._RawData/IIR Country Data – OECD/ImmediateIntRate.csv')"
   ]
  },
  {
   "cell_type": "code",
   "execution_count": 11,
   "metadata": {},
   "outputs": [],
   "source": [
    "# Keep relevant columns\n",
    "keep = ['Reference area', 'REF_AREA', 'TIME_PERIOD', 'OBS_VALUE']\n",
    "iir = iir[keep]"
   ]
  },
  {
   "cell_type": "code",
   "execution_count": 12,
   "metadata": {},
   "outputs": [],
   "source": [
    "# Rename columns\n",
    "iir.rename(columns={'Reference area': 'ctr', \n",
    "                       'REF_AREA': 'ctr_id', \n",
    "                       'TIME_PERIOD': 'period',\n",
    "                       'OBS_VALUE': 'ctr_irr'}, inplace=True)\n"
   ]
  },
  {
   "cell_type": "code",
   "execution_count": 13,
   "metadata": {},
   "outputs": [],
   "source": [
    "# Split period column\n",
    "iir[['year', 'month']] = iir['period'].str.split('-', expand=True)\n",
    "\n",
    "# Generate a unique identifier for each country-period combination\n",
    "iir['unique_id'] = iir['ctr_id'] + '_' + iir['period']"
   ]
  },
  {
   "cell_type": "code",
   "execution_count": 14,
   "metadata": {},
   "outputs": [],
   "source": [
    "# Merge IFSCODE\n",
    "iir = pd.merge(codes, iir, left_on='ISO', right_on='ctr_id', how='left')"
   ]
  },
  {
   "cell_type": "code",
   "execution_count": 15,
   "metadata": {},
   "outputs": [],
   "source": [
    "# Drop columns 'B' and 'D'\n",
    "iir = iir.drop(['ctr', 'ctr_id'], axis=1)"
   ]
  },
  {
   "cell_type": "markdown",
   "metadata": {},
   "source": [
    "## Short-Term Interest Rate – OECD"
   ]
  },
  {
   "cell_type": "code",
   "execution_count": 16,
   "metadata": {},
   "outputs": [],
   "source": [
    "stir = pd.read_csv('/Users/edmundoarias/Documents/Uniandes/2024-10/HE 2/FX-Intervention/8._Extension/1._RawData/STIR Country Data – OECD/ShortTerm IntRate.csv')"
   ]
  },
  {
   "cell_type": "code",
   "execution_count": 17,
   "metadata": {},
   "outputs": [],
   "source": [
    "# Keep relevant columns\n",
    "keep = ['Reference area', 'REF_AREA', 'TIME_PERIOD', 'OBS_VALUE']\n",
    "stir = stir[keep]"
   ]
  },
  {
   "cell_type": "code",
   "execution_count": 18,
   "metadata": {},
   "outputs": [],
   "source": [
    "# Rename columns\n",
    "stir.rename(columns={'Reference area': 'ctr', \n",
    "                       'REF_AREA': 'ctr_id', \n",
    "                       'TIME_PERIOD': 'period',\n",
    "                       'OBS_VALUE': 'ctr_stir'}, inplace=True)"
   ]
  },
  {
   "cell_type": "code",
   "execution_count": 19,
   "metadata": {},
   "outputs": [],
   "source": [
    "# Split period column\n",
    "stir[['year', 'month']] = stir['period'].str.split('-', expand=True)\n",
    "\n",
    "# Generate a unique identifier for each country-period combination\n",
    "stir['unique_id'] = stir['ctr_id'] + '_' + stir['period']"
   ]
  },
  {
   "cell_type": "code",
   "execution_count": 20,
   "metadata": {},
   "outputs": [],
   "source": [
    "# Merge IFSCODE\n",
    "stir = pd.merge(codes, stir, left_on='ISO', right_on='ctr_id', how='left')\n",
    "\n",
    "# Drop columns \n",
    "stir = stir.drop(['ctr', 'ctr_id'], axis=1)"
   ]
  },
  {
   "cell_type": "markdown",
   "metadata": {},
   "source": [
    "## Long-Term Interest Rate – OECD"
   ]
  },
  {
   "cell_type": "code",
   "execution_count": 21,
   "metadata": {},
   "outputs": [],
   "source": [
    "ltir = pd.read_csv('/Users/edmundoarias/Documents/Uniandes/2024-10/HE 2/FX-Intervention/8._Extension/1._RawData/LRIR Country Data – OECD/LongTerm IR.csv')"
   ]
  },
  {
   "cell_type": "code",
   "execution_count": 22,
   "metadata": {},
   "outputs": [],
   "source": [
    "# Keep relevant columns\n",
    "keep = ['Reference area', 'REF_AREA', 'TIME_PERIOD', 'OBS_VALUE']\n",
    "ltir = ltir[keep]"
   ]
  },
  {
   "cell_type": "code",
   "execution_count": 23,
   "metadata": {},
   "outputs": [],
   "source": [
    "# Rename columns\n",
    "ltir.rename(columns={'Reference area': 'ctr', \n",
    "                       'REF_AREA': 'ctr_id', \n",
    "                       'TIME_PERIOD': 'period',\n",
    "                       'OBS_VALUE': 'ctr_ltir'}, inplace=True)"
   ]
  },
  {
   "cell_type": "code",
   "execution_count": 24,
   "metadata": {},
   "outputs": [],
   "source": [
    "# Split period column\n",
    "ltir[['year', 'month']] = ltir['period'].str.split('-', expand=True)\n",
    "\n",
    "# Generate a unique identifier for each country-period combination\n",
    "ltir['unique_id'] = ltir['ctr_id'] + '_' + ltir['period']"
   ]
  },
  {
   "cell_type": "code",
   "execution_count": 25,
   "metadata": {},
   "outputs": [],
   "source": [
    "# Merge IFSCODE\n",
    "ltir = pd.merge(codes, ltir, left_on='ISO', right_on='ctr_id', how='left')\n",
    "\n",
    "# Drop columns \n",
    "ltir = ltir.drop(['ctr', 'ctr_id'], axis=1)"
   ]
  },
  {
   "cell_type": "markdown",
   "metadata": {},
   "source": [
    "## Real Effective Exchange Rate (by CPI) – OECD"
   ]
  },
  {
   "cell_type": "code",
   "execution_count": 26,
   "metadata": {},
   "outputs": [],
   "source": [
    "# Load data\n",
    "refx = pd.read_csv('/Users/edmundoarias/Documents/Uniandes/2024-10/HE 2/FX-Intervention/8._Extension/1._RawData/REFX Country Data – OECD/RealEffectiveFX CPI.csv')"
   ]
  },
  {
   "cell_type": "code",
   "execution_count": 27,
   "metadata": {},
   "outputs": [],
   "source": [
    "# Keep relevant columns\n",
    "keep = ['Reference area', 'REF_AREA', 'TIME_PERIOD', 'OBS_VALUE']\n",
    "refx = refx[keep]"
   ]
  },
  {
   "cell_type": "code",
   "execution_count": 28,
   "metadata": {},
   "outputs": [],
   "source": [
    "# Rename columns\n",
    "refx.rename(columns={'Reference area': 'ctr', \n",
    "                       'REF_AREA': 'ctr_id', \n",
    "                       'TIME_PERIOD': 'period',\n",
    "                       'OBS_VALUE': 'ctr_rexr'}, inplace=True)"
   ]
  },
  {
   "cell_type": "code",
   "execution_count": 29,
   "metadata": {},
   "outputs": [],
   "source": [
    "# Split period column\n",
    "refx[['year', 'month']] = refx['period'].str.split('-', expand=True)\n",
    "\n",
    "# Generate a unique identifier for each country-period combination\n",
    "refx['unique_id'] = refx['ctr_id'] + '_' + refx['period']"
   ]
  },
  {
   "cell_type": "code",
   "execution_count": 30,
   "metadata": {},
   "outputs": [],
   "source": [
    "# Merge IFSCODE\n",
    "refx = pd.merge(codes, refx, left_on='ISO', right_on='ctr_id', how='left')\n",
    "\n",
    "# Drop columns \n",
    "refx = refx.drop(['ctr', 'ctr_id'], axis=1)"
   ]
  },
  {
   "cell_type": "markdown",
   "metadata": {},
   "source": [
    "## Share Price Data – OECD"
   ]
  },
  {
   "cell_type": "code",
   "execution_count": 31,
   "metadata": {},
   "outputs": [],
   "source": [
    "# load data\n",
    "sp = pd.read_csv('/Users/edmundoarias/Documents/Uniandes/2024-10/HE 2/FX-Intervention/8._Extension/1._RawData/SP Country Data – OECD/SharePrices.csv')"
   ]
  },
  {
   "cell_type": "code",
   "execution_count": 32,
   "metadata": {},
   "outputs": [],
   "source": [
    "# Keep relevant columns\n",
    "keep = ['Reference area', 'REF_AREA', 'TIME_PERIOD', 'OBS_VALUE']\n",
    "sp = sp[keep]"
   ]
  },
  {
   "cell_type": "code",
   "execution_count": 33,
   "metadata": {},
   "outputs": [],
   "source": [
    "# Rename columns\n",
    "sp.rename(columns={'Reference area': 'ctr', \n",
    "                       'REF_AREA': 'ctr_id', \n",
    "                       'TIME_PERIOD': 'period',\n",
    "                       'OBS_VALUE': 'ctr_spi'}, inplace=True)"
   ]
  },
  {
   "cell_type": "code",
   "execution_count": 34,
   "metadata": {},
   "outputs": [],
   "source": [
    "# Split period column\n",
    "sp[['year', 'month']] = sp['period'].str.split('-', expand=True)\n",
    "\n",
    "# Generate a unique identifier for each country-period combination\n",
    "sp['unique_id'] = sp['ctr_id'] + '_' + sp['period']"
   ]
  },
  {
   "cell_type": "code",
   "execution_count": 35,
   "metadata": {},
   "outputs": [],
   "source": [
    "# Merge IFSCODE\n",
    "sp = pd.merge(codes, sp, left_on='ISO', right_on='ctr_id', how='left')\n",
    "\n",
    "# Drop columns \n",
    "sp = sp.drop(['ctr', 'ctr_id'], axis=1)"
   ]
  },
  {
   "cell_type": "markdown",
   "metadata": {},
   "source": [
    "# Merge Datasets (w/o FMI)"
   ]
  },
  {
   "cell_type": "code",
   "execution_count": 36,
   "metadata": {},
   "outputs": [
    {
     "name": "stdout",
     "output_type": "stream",
     "text": [
      "Unique Values: ['Afghanistan' 'Albania' 'Algeria' 'Angola' 'Antigua and Barbuda'\n",
      " 'Argentina' 'Armenia' 'Aruba' 'Australia' 'Austria' 'Azerbaijan'\n",
      " 'The Bahamas' 'Bahrain' 'Bangladesh' 'Barbados' 'Belarus' 'Belgium'\n",
      " 'Belize' 'Benin' 'Bhutan' 'Bolivia' 'Bosnia and Herzegovina' 'Botswana'\n",
      " 'Brazil' 'Brunei Darussalam' 'Bulgaria' 'Burkina Faso' 'Burundi'\n",
      " 'Cabo Verde' 'Cambodia' 'Cameroon' 'Canada' 'Central African Republic'\n",
      " 'Chad' 'Chile' 'China' 'Colombia' 'Comoros'\n",
      " 'Democratic Republic of the Congo' 'Republic of Congo' 'Costa Rica'\n",
      " \"CÙte d'Ivoire\" 'Croatia' 'Cyprus' 'Czech Republic' 'Denmark' 'Djibouti'\n",
      " 'Dominica' 'Dominican Republic' 'Ecuador' 'Egypt' 'El Salvador'\n",
      " 'Equatorial Guinea' 'Eritrea' 'Estonia' 'Eswatini' 'Ethiopia' 'Fiji'\n",
      " 'Finland' 'France' 'Gabon' 'The Gambia' 'Georgia' 'Germany' 'Ghana'\n",
      " 'Greece' 'Grenada' 'Guatemala' 'Guinea' 'Guinea-Bissau' 'Guyana' 'Haiti'\n",
      " 'Honduras' 'Hong Kong SAR' 'Hungary' 'Iceland' 'India' 'Indonesia'\n",
      " 'Islamic Republic of Iran' 'Iraq' 'Ireland' 'Israel' 'Italy' 'Jamaica'\n",
      " 'Japan' 'Jordan' 'Kazakhstan' 'Kenya' 'Kiribati' 'Korea' 'Kosovo'\n",
      " 'Kuwait' 'Kyrgyz Republic' 'Lao P.D.R.' 'Latvia' 'Lebanon' 'Lesotho'\n",
      " 'Liberia' 'Libya' 'Lithuania' 'Luxembourg' 'Macao SAR' 'Madagascar'\n",
      " 'Malawi' 'Malaysia' 'Maldives' 'Mali' 'Malta' 'Marshall Islands'\n",
      " 'Mauritania' 'Mauritius' 'Mexico' 'Micronesia' 'Moldova' 'Mongolia'\n",
      " 'Montenegro' 'Morocco' 'Mozambique' 'Myanmar' 'Namibia' 'Nauru' 'Nepal'\n",
      " 'Netherlands' 'New Zealand' 'Nicaragua' 'Niger' 'Nigeria'\n",
      " 'North Macedonia' 'Norway' 'Oman' 'Pakistan' 'Palau' 'Panama'\n",
      " 'Papua New Guinea' 'Paraguay' 'Peru' 'Philippines' 'Poland' 'Portugal'\n",
      " 'Puerto Rico' 'Qatar' 'Romania' 'Russia' 'Rwanda' 'Samoa' 'San Marino'\n",
      " 'S„o TomÈ and PrÌncipe' 'Saudi Arabia' 'Senegal' 'Serbia' 'Seychelles'\n",
      " 'Sierra Leone' 'Singapore' 'Slovak Republic' 'Slovenia' 'Solomon Islands'\n",
      " 'Somalia' 'South Africa' 'South Sudan' 'Spain' 'Sri Lanka'\n",
      " 'St. Kitts and Nevis' 'St. Lucia' 'St. Vincent and the Grenadines'\n",
      " 'Sudan' 'Suriname' 'Sweden' 'Switzerland' 'Syria'\n",
      " 'Taiwan Province of China' 'Tajikistan' 'Tanzania' 'Thailand'\n",
      " 'Timor-Leste' 'Togo' 'Tonga' 'Trinidad and Tobago' 'Tunisia' 'Turkey'\n",
      " 'Turkmenistan' 'Tuvalu' 'Uganda' 'Ukraine' 'United Arab Emirates'\n",
      " 'United Kingdom' 'United States' 'Uruguay' 'Uzbekistan' 'Vanuatu'\n",
      " 'Venezuela' 'Vietnam' 'Yemen' 'Zambia' 'Zimbabwe']\n"
     ]
    }
   ],
   "source": [
    "unique_values = iir['Country'].unique()\n",
    "print(\"Unique Values:\", unique_values)"
   ]
  },
  {
   "cell_type": "code",
   "execution_count": 37,
   "metadata": {},
   "outputs": [],
   "source": [
    "# Main df: Exchange Rate (exrate)\n",
    "\n",
    "## --> Merge spi into exrate dataframe\n",
    "sp_sub = sp[['ifscode', 'period', 'ctr_spi']]\n",
    "\n",
    "main_df = pd.merge(exrate, sp_sub, on=['ifscode', 'period'], how='left')"
   ]
  },
  {
   "cell_type": "code",
   "execution_count": 38,
   "metadata": {},
   "outputs": [],
   "source": [
    "# Main df: Exchange Rate (exrate)\n",
    "\n",
    "## --> Merge iir into exrate dataframe\n",
    "iir_sub = iir[['ifscode', 'period', 'ctr_irr']]\n",
    "\n",
    "main_df = pd.merge(main_df, iir_sub, on=['ifscode', 'period'], how='left')"
   ]
  },
  {
   "cell_type": "code",
   "execution_count": 39,
   "metadata": {},
   "outputs": [],
   "source": [
    "# Main df: Exchange Rate (exrate)\n",
    "\n",
    "## --> Merge stir into exrate dataframe\n",
    "stir_sub = stir[['ifscode', 'period', 'ctr_stir']]\n",
    "\n",
    "main_df = pd.merge(main_df, stir_sub, on=['ifscode', 'period'], how='left')"
   ]
  },
  {
   "cell_type": "code",
   "execution_count": 40,
   "metadata": {},
   "outputs": [],
   "source": [
    "# Main df: Exchange Rate (exrate)\n",
    "\n",
    "## --> Merge ltir into exrate dataframe\n",
    "ltir_sub = ltir[['ifscode', 'period', 'ctr_ltir']]\n",
    "\n",
    "main_df = pd.merge(main_df, ltir_sub, on=['ifscode', 'period'], how='left')"
   ]
  },
  {
   "cell_type": "code",
   "execution_count": 41,
   "metadata": {},
   "outputs": [],
   "source": [
    "# Main df: Exchange Rate (exrate)\n",
    "\n",
    "## --> Merge refx into exrate dataframe\n",
    "refx_sub = refx[['ifscode', 'period', 'ctr_rexr']]\n",
    "\n",
    "main_df = pd.merge(main_df, refx_sub, on=['ifscode', 'period'], how='left')"
   ]
  },
  {
   "cell_type": "code",
   "execution_count": 42,
   "metadata": {},
   "outputs": [
    {
     "data": {
      "text/plain": [
       "Index(['ifscode', 'ISO', 'Country', 'period', 'ctr_nomxr', 'year', 'month',\n",
       "       'unique_id', 'ctr_spi', 'ctr_irr', 'ctr_stir', 'ctr_ltir', 'ctr_rexr'],\n",
       "      dtype='object')"
      ]
     },
     "execution_count": 42,
     "metadata": {},
     "output_type": "execute_result"
    }
   ],
   "source": [
    "main_df.columns"
   ]
  },
  {
   "cell_type": "code",
   "execution_count": 43,
   "metadata": {},
   "outputs": [],
   "source": [
    "# Specify the order of columns\n",
    "new_order = ['ifscode', 'ISO', 'Country', 'period', 'year', 'month', 'unique_id', 'ctr_nomxr', 'ctr_rexr', 'ctr_irr', 'ctr_stir', 'ctr_ltir', 'ctr_spi']\n",
    "\n",
    "# Reorder the columns\n",
    "CountryData = main_df[new_order]\n",
    "\n",
    "CountryData = CountryData.dropna(subset=['period'])"
   ]
  },
  {
   "cell_type": "code",
   "execution_count": 44,
   "metadata": {},
   "outputs": [
    {
     "name": "stdout",
     "output_type": "stream",
     "text": [
      "Unique Values: ['Australia' 'Brazil' 'Canada' 'Chile' 'China' 'Colombia' 'Costa Rica'\n",
      " 'Czech Republic' 'Denmark' 'Hungary' 'Iceland' 'India' 'Indonesia'\n",
      " 'Israel' 'Japan' 'Korea' 'Latvia' 'Mexico' 'New Zealand' 'Norway'\n",
      " 'Poland' 'Russia' 'Sweden' 'Switzerland' 'Turkey' 'United Kingdom']\n"
     ]
    }
   ],
   "source": [
    "unique_values = CountryData['Country'].unique()\n",
    "print(\"Unique Values:\", unique_values)"
   ]
  },
  {
   "cell_type": "markdown",
   "metadata": {},
   "source": [
    "## FXI Data (IMF) + XR (and others) Data (OECD)"
   ]
  },
  {
   "cell_type": "code",
   "execution_count": 45,
   "metadata": {},
   "outputs": [],
   "source": [
    "fxi['year'] = fxi['year'].astype(int)\n",
    "CountryData['year'] = CountryData['year'].astype(int)\n",
    "fxi['month'] = fxi['month'].astype(int)\n",
    "CountryData['month'] = CountryData['month'].astype(int)\n",
    "\n",
    "panel = pd.merge(fxi, CountryData, on=['ifscode', 'year', 'month'], how='left')\n"
   ]
  },
  {
   "cell_type": "code",
   "execution_count": 46,
   "metadata": {},
   "outputs": [
    {
     "data": {
      "text/plain": [
       "Index(['ifscode', 'country', 'year', 'month', 'FXI_spot_proxy_USD_m',\n",
       "       'FXI_deriv_proxy_USD_m', 'FXI_broad_proxy_USD_m',\n",
       "       'FXI_spot_proxy_GDP_m', 'FXI_deriv_proxy_GDP_m',\n",
       "       'FXI_broad_proxy_GDP_m', 'FXI_spot_pub_USD_m', 'FXI_deriv_pub_USD_m',\n",
       "       'FXI_broad_pub_USD_m', 'FXI_spot_pub_GDP_m', 'FXI_deriv_pub_GDP_m',\n",
       "       'FXI_broad_pub_GDP_m', 'Sterilization_dummy', 'De_facto_EXR_regime',\n",
       "       'De_jure_EXR_regime', 'ISO', 'Country', 'period', 'unique_id',\n",
       "       'ctr_nomxr', 'ctr_rexr', 'ctr_irr', 'ctr_stir', 'ctr_ltir', 'ctr_spi'],\n",
       "      dtype='object')"
      ]
     },
     "execution_count": 46,
     "metadata": {},
     "output_type": "execute_result"
    }
   ],
   "source": [
    "panel.columns"
   ]
  },
  {
   "cell_type": "code",
   "execution_count": 47,
   "metadata": {},
   "outputs": [],
   "source": [
    "# Specify the order of columns\n",
    "new_order = ['ifscode', 'country', 'ISO', 'period', 'year', 'month', 'ctr_nomxr', 'ctr_rexr', 'ctr_irr', 'ctr_stir', 'ctr_ltir', 'ctr_spi', 'FXI_spot_proxy_USD_m', 'FXI_deriv_proxy_USD_m', 'FXI_broad_proxy_USD_m', 'FXI_spot_proxy_GDP_m', 'FXI_deriv_proxy_GDP_m', 'FXI_broad_proxy_GDP_m', 'FXI_spot_pub_USD_m', 'FXI_deriv_pub_USD_m', 'FXI_broad_pub_USD_m', 'FXI_spot_pub_GDP_m', 'FXI_deriv_pub_GDP_m', 'FXI_broad_pub_GDP_m', 'Sterilization_dummy', 'De_facto_EXR_regime', 'De_jure_EXR_regime']\n",
    "\n",
    "# Reorder the columns\n",
    "panel = panel[new_order]"
   ]
  },
  {
   "cell_type": "code",
   "execution_count": 48,
   "metadata": {},
   "outputs": [],
   "source": [
    "# Subset to countries with a 'period' information\n",
    "panel = panel.dropna(subset=['period'])\n"
   ]
  },
  {
   "cell_type": "code",
   "execution_count": 49,
   "metadata": {},
   "outputs": [
    {
     "name": "stdout",
     "output_type": "stream",
     "text": [
      "Unique Values: ['United Kingdom' 'Denmark' 'Norway' 'Sweden' 'Switzerland' 'Canada'\n",
      " 'Japan' 'Iceland' 'Turkey' 'Australia' 'New Zealand' 'Brazil' 'Chile'\n",
      " 'Colombia' 'Costa Rica' 'Mexico' 'Israel' 'India' 'Indonesia' 'Korea'\n",
      " 'Russia' 'China' 'Czech Republic' 'Latvia' 'Hungary' 'Poland']\n"
     ]
    }
   ],
   "source": [
    "# What countries do we have\n",
    "unique_values = panel['country'].unique()\n",
    "print(\"Unique Values:\", unique_values)\n"
   ]
  },
  {
   "cell_type": "code",
   "execution_count": 50,
   "metadata": {},
   "outputs": [],
   "source": [
    "panel = panel.convert_dtypes()  # Converts columns to the best possible dtypes that fit the data\n",
    "\n",
    "for col in panel.select_dtypes(include=['object']):\n",
    "    if panel[col].apply(lambda x: not isinstance(x, str) and x is not None).any():\n",
    "        panel[col] = panel[col].astype(str)"
   ]
  },
  {
   "cell_type": "code",
   "execution_count": 51,
   "metadata": {},
   "outputs": [],
   "source": [
    "# Export data to csv\n",
    "panel.to_csv('/Users/edmundoarias/Documents/Uniandes/2024-10/HE 2/FX-Intervention/8._Extension/2._ProcessedData/FXI_Panel.csv')\n",
    "\n",
    "# Export data to Stata\n",
    "panel.to_stata('/Users/edmundoarias/Documents/Uniandes/2024-10/HE 2/FX-Intervention/8._Extension/2._ProcessedData/FXI_Panel.dta')\n"
   ]
  },
  {
   "cell_type": "markdown",
   "metadata": {},
   "source": [
    "# Manually Create Panel"
   ]
  },
  {
   "cell_type": "code",
   "execution_count": 52,
   "metadata": {},
   "outputs": [
    {
     "name": "stderr",
     "output_type": "stream",
     "text": [
      "/var/folders/4q/634d8_qs2qdd58rzydjvszzm0000gn/T/ipykernel_82517/685108922.py:7: FutureWarning: 'M' is deprecated and will be removed in a future version, please use 'ME' instead.\n",
      "  monthly_periods = pd.date_range(start=\"2000-01\", end=\"2024-04\", freq='M')\n"
     ]
    }
   ],
   "source": [
    "from itertools import product\n",
    "\n",
    "# Extract unique countries\n",
    "unique_countries = codes.drop_duplicates()\n",
    "\n",
    "# Generate monthly periods from January 2000 to March 2024\n",
    "monthly_periods = pd.date_range(start=\"2000-01\", end=\"2024-04\", freq='M')\n",
    "\n",
    "# Create Cartesian product of unique country entries and monthly periods\n",
    "country_month_product = product(unique_countries.itertuples(index=False), monthly_periods)\n",
    "\n",
    "# Build DataFrame\n",
    "country_month_panel = pd.DataFrame([\n",
    "    {\"ifscode\": country.ifscode, \"Country\": country.Country, \"period\": period.strftime(\"%Y-%m\")}\n",
    "    for country, period in country_month_product\n",
    "])\n"
   ]
  },
  {
   "cell_type": "markdown",
   "metadata": {},
   "source": [
    "### Start Merging Data "
   ]
  },
  {
   "cell_type": "code",
   "execution_count": 53,
   "metadata": {},
   "outputs": [],
   "source": [
    "# 1. FMI FXI Data\n",
    "\n",
    "#--> Create a period column\n",
    "fxi['period'] = fxi['year'].astype(str) + '-' + fxi['month'].astype(str).str.pad(width=2, fillchar='0')\n",
    "\n",
    "# Merge\n",
    "panel2 = pd.merge(country_month_panel, fxi, on=['ifscode', 'period'], how='left')\n",
    "panel2.fillna(0, inplace=True)"
   ]
  },
  {
   "cell_type": "code",
   "execution_count": 55,
   "metadata": {},
   "outputs": [],
   "source": [
    "# Exrate Data\n",
    "\n",
    "exrate_sub = exrate[['ifscode', 'period', 'ctr_nomxr']]\n",
    "\n",
    "panel2 = pd.merge(panel2, exrate_sub, on=['ifscode', 'period'], how='left')\n",
    "panel2 = panel2.drop_duplicates(subset=['ifscode', 'period'])\n",
    "panel2.fillna(0, inplace=True) # Fill missings\n",
    "\n",
    "# If ctr_nomxr == 0 set to NaN"
   ]
  },
  {
   "cell_type": "code",
   "execution_count": 58,
   "metadata": {},
   "outputs": [
    {
     "name": "stdout",
     "output_type": "stream",
     "text": [
      "['Australia' 'Brazil' 'Canada' 'Chile' 'China' 'Colombia' 'Costa Rica'\n",
      " 'Czech Republic' 'Denmark' 'Hungary' 'Iceland' 'India' 'Indonesia'\n",
      " 'Israel' 'Japan' 'Korea' 'Latvia' 'Mexico' 'New Zealand' 'Norway'\n",
      " 'Poland' 'Russia' 'Sweden' 'Switzerland' 'Turkey' 'United Kingdom']\n"
     ]
    }
   ],
   "source": [
    "filtered_df = panel2[panel2['ctr_nomxr_x'].notna() & (panel2['ctr_nomxr_x'] != 0)]\n",
    "\n",
    "# List unique countries with no NaN or zero in 'population'\n",
    "countries = filtered_df['Country'].unique()\n",
    "\n",
    "print(countries)"
   ]
  }
 ],
 "metadata": {
  "kernelspec": {
   "display_name": "base",
   "language": "python",
   "name": "python3"
  },
  "language_info": {
   "codemirror_mode": {
    "name": "ipython",
    "version": 3
   },
   "file_extension": ".py",
   "mimetype": "text/x-python",
   "name": "python",
   "nbconvert_exporter": "python",
   "pygments_lexer": "ipython3",
   "version": "3.11.5"
  }
 },
 "nbformat": 4,
 "nbformat_minor": 2
}
